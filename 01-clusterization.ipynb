{
 "cells": [
  {
   "cell_type": "code",
   "execution_count": 1,
   "id": "3e22f920-d634-4e97-ba62-29faeaa08e1f",
   "metadata": {},
   "outputs": [
    {
     "name": "stderr",
     "output_type": "stream",
     "text": [
      "Setting default log level to \"WARN\".\n",
      "To adjust logging level use sc.setLogLevel(newLevel). For SparkR, use setLogLevel(newLevel).\n",
      "23/05/24 21:31:33 WARN NativeCodeLoader: Unable to load native-hadoop library for your platform... using builtin-java classes where applicable\n",
      "23/05/24 21:31:35 WARN Utils: Service 'SparkUI' could not bind on port 4040. Attempting port 4041.\n"
     ]
    }
   ],
   "source": [
    "from pyspark.sql import SparkSession\n",
    "\n",
    "spark = SparkSession.builder.getOrCreate()"
   ]
  },
  {
   "cell_type": "code",
   "execution_count": 6,
   "id": "22d18d01-1022-41d4-8dc6-6699223c47b0",
   "metadata": {},
   "outputs": [],
   "source": [
    "from pyspark.ml.clustering import KMeans"
   ]
  },
  {
   "cell_type": "code",
   "execution_count": 19,
   "id": "592cf838-4d2f-4f21-b56a-919a6677cbbd",
   "metadata": {},
   "outputs": [],
   "source": [
    "import pandas as pd\n",
    "from datetime import date, datetime\n",
    "import matplotlib.pyplot as plt"
   ]
  },
  {
   "cell_type": "code",
   "execution_count": 22,
   "id": "d89ae2db-5610-4e65-80c5-61832a92fedd",
   "metadata": {},
   "outputs": [
    {
     "data": {
      "text/plain": [
       "DataFrame[abbreviated_product_name: double, cities: double, allergens_en: double, serving_quantity: double, additives_n: double, additives: double, nutriscore_score: double, nova_group: double, ecoscore_score: double, product_quantity: double, owner: double, unique_scans_n: double, completeness: double, last_image_t: double, energy-kj_100g: double, energy-kcal_100g: double, energy_100g: double, energy-from-fat_100g: double, fat_100g: double, saturated-fat_100g: double, butyric-acid_100g: double, caproic-acid_100g: double, caprylic-acid_100g: double, capric-acid_100g: double, lauric-acid_100g: double, myristic-acid_100g: double, palmitic-acid_100g: double, stearic-acid_100g: double, arachidic-acid_100g: double, behenic-acid_100g: double, lignoceric-acid_100g: double, cerotic-acid_100g: double, montanic-acid_100g: double, melissic-acid_100g: double, unsaturated-fat_100g: double, monounsaturated-fat_100g: double, polyunsaturated-fat_100g: double, omega-3-fat_100g: double, alpha-linolenic-acid_100g: double, eicosapentaenoic-acid_100g: double, docosahexaenoic-acid_100g: double, omega-6-fat_100g: double, linoleic-acid_100g: double, arachidonic-acid_100g: double, gamma-linolenic-acid_100g: double, dihomo-gamma-linolenic-acid_100g: double, omega-9-fat_100g: double, oleic-acid_100g: double, elaidic-acid_100g: double, gondoic-acid_100g: double, mead-acid_100g: double, erucic-acid_100g: double, nervonic-acid_100g: double, trans-fat_100g: double, cholesterol_100g: double, carbohydrates_100g: double, sugars_100g: double, added-sugars_100g: double, sucrose_100g: double, glucose_100g: double, fructose_100g: double, lactose_100g: double, maltose_100g: double, maltodextrins_100g: double, starch_100g: double, polyols_100g: double, erythritol_100g: double, fiber_100g: double, soluble-fiber_100g: double, insoluble-fiber_100g: double, proteins_100g: double, casein_100g: double, serum-proteins_100g: double, nucleotides_100g: double, salt_100g: double, added-salt_100g: double, sodium_100g: double, alcohol_100g: double, vitamin-a_100g: double, beta-carotene_100g: double, vitamin-d_100g: double, vitamin-e_100g: double, vitamin-k_100g: double, vitamin-c_100g: double, vitamin-b1_100g: double, vitamin-b2_100g: double, vitamin-pp_100g: double, vitamin-b6_100g: double, vitamin-b9_100g: double, folates_100g: double, vitamin-b12_100g: double, biotin_100g: double, pantothenic-acid_100g: double, silica_100g: double, bicarbonate_100g: double, potassium_100g: double, chloride_100g: double, calcium_100g: double, phosphorus_100g: double, iron_100g: double, magnesium_100g: double, zinc_100g: double, copper_100g: double, manganese_100g: double, fluoride_100g: double, selenium_100g: double, chromium_100g: double, molybdenum_100g: double, iodine_100g: double, caffeine_100g: double, taurine_100g: double, ph_100g: double, fruits-vegetables-nuts_100g: double, fruits-vegetables-nuts-dried_100g: double, fruits-vegetables-nuts-estimate_100g: double, fruits-vegetables-nuts-estimate-from-ingredients_100g: double, collagen-meat-protein-ratio_100g: double, cocoa_100g: double, chlorophyl_100g: double, carbon-footprint_100g: double, carbon-footprint-from-meat-or-fish_100g: double, nutrition-score-fr_100g: double, nutrition-score-uk_100g: double, glycemic-index_100g: double, water-hardness_100g: double, choline_100g: double, phylloquinone_100g: double, beta-glucan_100g: double, inositol_100g: double, carnitine_100g: double, sulphate_100g: double, nitrate_100g: double]"
      ]
     },
     "execution_count": 22,
     "metadata": {},
     "output_type": "execute_result"
    }
   ],
   "source": [
    "df = pd.read_csv('data/subset.csv')\n",
    "data = spark.createDataFrame(df)\n",
    "data"
   ]
  },
  {
   "cell_type": "code",
   "execution_count": 23,
   "id": "f154571e-8c06-4152-80cc-bf7f236a06c9",
   "metadata": {},
   "outputs": [
    {
     "name": "stdout",
     "output_type": "stream",
     "text": [
      "+--------------------+\n",
      "|            features|\n",
      "+--------------------+\n",
      "|(132,[12,13,15,16...|\n",
      "|(132,[12,13,18,19...|\n",
      "|(132,[6,8,9,12,13...|\n",
      "|(132,[12,13,15,16...|\n",
      "|(132,[9,12,13],[1...|\n",
      "+--------------------+\n",
      "only showing top 5 rows\n",
      "\n"
     ]
    }
   ],
   "source": [
    "from pyspark.ml.feature import VectorAssembler\n",
    "  \n",
    "vec_assembler = VectorAssembler(inputCols=data.columns,\n",
    "                                outputCol='features')\n",
    "  \n",
    "final_data = vec_assembler.transform(data)\n",
    "final_data.select('features').show(5)"
   ]
  },
  {
   "cell_type": "code",
   "execution_count": 24,
   "id": "04900c2b-7396-4e23-82ef-8f8b4d9a95af",
   "metadata": {},
   "outputs": [
    {
     "name": "stdout",
     "output_type": "stream",
     "text": [
      "Silhouette at 2: 0.998\n",
      "Silhouette at 3: 0.873\n",
      "Silhouette at 4: 0.826\n",
      "Silhouette at 5: 0.826\n",
      "Silhouette at 6: 0.798\n",
      "Silhouette at 7: 0.814\n",
      "Silhouette at 8: 0.799\n",
      "Silhouette at 9: 0.791\n",
      "Silhouette at 10: 0.793\n",
      "Silhouette at 11: 0.789\n",
      "Silhouette at 12: 0.777\n",
      "Silhouette at 13: 0.794\n",
      "Silhouette at 14: 0.774\n"
     ]
    }
   ],
   "source": [
    "from pyspark.ml.clustering import KMeans\n",
    "from pyspark.ml.evaluation import ClusteringEvaluator\n",
    "\n",
    "silhouette_score=[]\n",
    "evaluator = ClusteringEvaluator(predictionCol='prediction', \\\n",
    "                                metricName='silhouette', distanceMeasure='squaredEuclidean')\n",
    "for i in range(2,15):\n",
    "    KMeans_algo=KMeans(k=i)    \n",
    "    KMeans_fit=KMeans_algo.fit(final_data)\n",
    "    output=KMeans_fit.transform(final_data)\n",
    "\n",
    "    score=evaluator.evaluate(output)\n",
    "    silhouette_score.append(score)\n",
    "    \n",
    "    print(f\"Silhouette at {i}: {score:.3f}\")"
   ]
  },
  {
   "cell_type": "code",
   "execution_count": 27,
   "id": "33ce4403-b4b7-49a1-bce7-9e97fabfd084",
   "metadata": {},
   "outputs": [
    {
     "data": {
      "text/plain": [
       "[<matplotlib.lines.Line2D at 0x12c5b38e0>]"
      ]
     },
     "execution_count": 27,
     "metadata": {},
     "output_type": "execute_result"
    },
    {
     "data": {
      "image/png": "[encoded data removed]",
      "text/plain": [
       "<Figure size 432x288 with 1 Axes>"
      ]
     },
     "metadata": {
      "needs_background": "light"
     },
     "output_type": "display_data"
    }
   ],
   "source": [
    "plt.plot(list(range(2, 15)), silhouette_score)"
   ]
  },
  {
   "cell_type": "code",
   "execution_count": 31,
   "id": "4c7eccee-f0ac-4650-a8aa-ca3530810c8e",
   "metadata": {},
   "outputs": [],
   "source": [
    "KMeans_algo=KMeans(k=7)    \n",
    "KMeans_fit=KMeans_algo.fit(final_data)\n",
    "output=KMeans_fit.transform(final_data)"
   ]
  },
  {
   "cell_type": "code",
   "execution_count": 53,
   "id": "bae5112b-b197-4369-aacc-2e3e2d0ceb47",
   "metadata": {},
   "outputs": [],
   "source": [
    "preds = output.select('prediction').collect()\n",
    "preds = list(map(lambda item: item.asDict()['prediction'], preds))"
   ]
  },
  {
   "cell_type": "code",
   "execution_count": null,
   "id": "ffe5fcd7-7f57-4a61-81ce-c87b69317d34",
   "metadata": {},
   "outputs": [],
   "source": []
  }
 ],
 "metadata": {
  "kernelspec": {
   "display_name": "Python 3 (ipykernel)",
   "language": "python",
   "name": "python3"
  },
  "language_info": {
   "codemirror_mode": {
    "name": "ipython",
    "version": 3
   },
   "file_extension": ".py",
   "mimetype": "text/x-python",
   "name": "python",
   "nbconvert_exporter": "python",
   "pygments_lexer": "ipython3",
   "version": "3.9.16"
  }
 },
 "nbformat": 4,
 "nbformat_minor": 5
}
